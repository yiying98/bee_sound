{
 "cells": [
  {
   "cell_type": "code",
   "execution_count": 2,
   "id": "0e6ac7d0",
   "metadata": {},
   "outputs": [
    {
     "name": "stdout",
     "output_type": "stream",
     "text": [
      "2.5.0\n"
     ]
    }
   ],
   "source": [
    "import os\n",
    "import numpy as np\n",
    "import pandas as pd\n",
    "import tensorflow as tf\n",
    "import seaborn as sn\n",
    "import matplotlib.pyplot as plt\n",
    "from tqdm import tqdm\n",
    "\n",
    "from keras.models import Sequential\n",
    "from keras.layers import Dense, Dropout, LSTM, Bidirectional\n",
    "from sklearn.metrics import accuracy_score, f1_score\n",
    "from sklearn.preprocessing import LabelEncoder\n",
    "# from sklearn.decomposition import PCA\n",
    "from sklearn.model_selection import train_test_split\n",
    "\n",
    "\n",
    "print(tf.__version__)\n",
    "# print(keras.__version__)"
   ]
  },
  {
   "cell_type": "code",
   "execution_count": null,
   "id": "ea73f8d2",
   "metadata": {},
   "outputs": [],
   "source": []
  },
  {
   "cell_type": "code",
   "execution_count": 3,
   "id": "25c36ebf",
   "metadata": {},
   "outputs": [
    {
     "name": "stdout",
     "output_type": "stream",
     "text": [
      "[[[-1.00000000e+00 -1.00000000e+00 -1.00000000e+00 ... -1.00000000e+00\n",
      "   -1.00000000e+00 -1.00000000e+00]\n",
      "  [ 5.30413210e-01  5.32638609e-01  4.96484756e-01 ...  5.80082595e-01\n",
      "    6.72399640e-01  6.06373608e-01]\n",
      "  [ 2.81740636e-01  2.64908582e-01  2.43073016e-01 ...  2.92614192e-01\n",
      "    3.33399266e-01  3.08093697e-01]\n",
      "  ...\n",
      "  [ 2.29831319e-02  3.31883691e-02  1.59285218e-02 ... -2.98462082e-02\n",
      "   -3.10496278e-02 -5.19249849e-02]\n",
      "  [ 6.34822696e-02  6.11205250e-02  3.45082209e-02 ...  3.20146559e-04\n",
      "    1.12122875e-02  1.80173106e-02]\n",
      "  [ 1.94962472e-02  2.25153868e-03  8.75835400e-03 ...  4.39110911e-03\n",
      "   -8.27101432e-03 -2.16087326e-02]]\n",
      "\n",
      " [[-1.00000000e+00 -1.00000000e+00 -1.00000000e+00 ... -1.00000000e+00\n",
      "   -1.00000000e+00 -1.00000000e+00]\n",
      "  [ 3.64445984e-01  3.94476742e-01  3.81006718e-01 ...  3.48444551e-01\n",
      "    3.33635598e-01  3.05437177e-01]\n",
      "  [ 2.22519919e-01  2.17180431e-01  1.87094495e-01 ...  1.76329255e-01\n",
      "    1.87195629e-01  2.01123089e-01]\n",
      "  ...\n",
      "  [-4.81023900e-02 -1.46041438e-02  3.53582716e-03 ... -3.37183326e-02\n",
      "   -6.12941533e-02 -5.08546866e-02]\n",
      "  [-3.57416719e-02 -2.94543263e-02 -5.56982530e-04 ...  1.55911380e-02\n",
      "   -1.92251001e-02 -1.05983308e-02]\n",
      "  [-3.61811481e-02 -2.50627492e-02  7.64599955e-03 ...  2.37438232e-02\n",
      "    6.19719783e-03  9.48867202e-03]]\n",
      "\n",
      " [[-1.00000000e+00 -1.00000000e+00 -1.00000000e+00 ... -1.00000000e+00\n",
      "   -1.00000000e+00 -1.00000000e+00]\n",
      "  [ 2.60104924e-01  2.63678730e-01  2.40492657e-01 ...  3.92903209e-01\n",
      "    4.72990662e-01  4.42670941e-01]\n",
      "  [ 1.37525201e-01  1.30603760e-01  1.04253776e-01 ...  1.64663747e-01\n",
      "    1.76539376e-01  1.89455569e-01]\n",
      "  ...\n",
      "  [-1.60202559e-03 -7.28552835e-03 -9.45780706e-03 ... -1.13368910e-02\n",
      "   -2.75291465e-02 -3.29808779e-02]\n",
      "  [ 1.19395200e-02  1.44993057e-02  5.32506779e-03 ...  1.16775669e-02\n",
      "    1.17951073e-02  4.43296088e-03]\n",
      "  [-6.65386207e-03 -9.84168239e-03  2.56995950e-03 ... -5.51837403e-03\n",
      "   -6.42436498e-04 -1.12608084e-02]]\n",
      "\n",
      " ...\n",
      "\n",
      " [[-1.00000000e+00 -1.00000000e+00 -1.00000000e+00 ... -1.00000000e+00\n",
      "   -1.00000000e+00 -1.00000000e+00]\n",
      "  [ 4.12818372e-01  4.28674132e-01  4.96001422e-01 ...  2.54857540e-01\n",
      "    2.61771202e-01  2.56274551e-01]\n",
      "  [ 2.20721170e-01  1.92536801e-01  1.50968358e-01 ...  1.04493372e-01\n",
      "    1.14932187e-01  1.15497366e-01]\n",
      "  ...\n",
      "  [-5.14550088e-03 -4.45373682e-03 -7.87233189e-03 ... -9.08416696e-03\n",
      "   -1.43927429e-02 -1.62054673e-02]\n",
      "  [ 1.23539204e-02  3.87324183e-03 -5.59808314e-03 ...  6.19285228e-03\n",
      "   -2.24179588e-03 -7.33935274e-03]\n",
      "  [-3.94232245e-03 -1.23245064e-02 -1.61035527e-02 ... -6.28291909e-03\n",
      "   -9.94949508e-03 -1.48246465e-02]]\n",
      "\n",
      " [[-1.00000000e+00 -1.00000000e+00 -1.00000000e+00 ... -1.00000000e+00\n",
      "   -1.00000000e+00 -1.00000000e+00]\n",
      "  [ 2.45551482e-01  2.60045856e-01  2.64820158e-01 ...  2.89413512e-01\n",
      "    2.82465458e-01  2.63766855e-01]\n",
      "  [ 1.12276427e-01  1.10441387e-01  1.08343206e-01 ...  1.02156192e-01\n",
      "    1.06954120e-01  1.14783578e-01]\n",
      "  ...\n",
      "  [-2.01213136e-02 -1.66498143e-02 -8.88833497e-03 ... -1.64802335e-02\n",
      "   -1.39206368e-02 -1.53691322e-02]\n",
      "  [-1.50388507e-02 -1.15604205e-02 -6.53870450e-03 ... -2.14347686e-03\n",
      "   -3.38466512e-03 -2.37650424e-03]\n",
      "  [-4.18040017e-03 -5.49265184e-03 -5.45306271e-03 ... -2.14189710e-03\n",
      "   -3.21451435e-03 -3.37510114e-03]]\n",
      "\n",
      " [[-1.00000000e+00 -1.00000000e+00 -1.00000000e+00 ... -1.00000000e+00\n",
      "   -1.00000000e+00 -1.00000000e+00]\n",
      "  [ 2.64827251e-01  2.81117886e-01  2.73093760e-01 ...  2.79810101e-01\n",
      "    2.87755966e-01  2.79196292e-01]\n",
      "  [ 1.18945546e-01  1.15614161e-01  1.10937871e-01 ...  1.03956185e-01\n",
      "    1.12075627e-01  1.08785912e-01]\n",
      "  ...\n",
      "  [-6.54723030e-03 -7.36803794e-03 -6.76180189e-03 ... -1.25612803e-02\n",
      "   -5.02343476e-03 -5.68229659e-03]\n",
      "  [ 5.58534823e-03  1.39898271e-03 -1.01244566e-03 ... -5.11114625e-03\n",
      "    7.36694958e-04  2.37433496e-03]\n",
      "  [ 5.55378012e-03  3.86141310e-03 -2.49912520e-03 ... -7.79401511e-03\n",
      "   -9.93292034e-03 -7.96140824e-03]]]\n",
      "['flu' 'flu' 'flu' ... 'queenless' 'queenless' 'queenless']\n"
     ]
    }
   ],
   "source": [
    "def concat_dataset():\n",
    "    path = './dataset'\n",
    "    fileset = sorted( [f for f in os.listdir(path) if f.endswith('.npy')])\n",
    "    filedic = {}\n",
    "    features = labels = np.array([])\n",
    "    \n",
    "    for idx, i in enumerate(fileset):\n",
    "        if idx %2==0:\n",
    "            filedic[i]= fileset[idx+1]\n",
    "    \n",
    "    \n",
    "    for file in filedic.keys():\n",
    "                \n",
    "            features_filename = file\n",
    "            labels_filename = filedic[file]\n",
    "            \n",
    "            curr_features = np.load(os.path.join(path, features_filename))\n",
    "            curr_labels = np.load(os.path.join(path, labels_filename))\n",
    "            \n",
    "            if features.size == 0:\n",
    "                features = curr_features\n",
    "            else:\n",
    "                features = np.concatenate((features, curr_features))\n",
    "                \n",
    "            \n",
    "            if labels.size == 0:\n",
    "                labels = curr_labels\n",
    "            else:\n",
    "                labels = np.concatenate((labels, curr_labels))\n",
    "    \n",
    "    return (features, labels)\n",
    "\n",
    "        \n",
    "dataset = concat_dataset()\n",
    "print(dataset[0])\n",
    "print(dataset[1])"
   ]
  },
  {
   "cell_type": "code",
   "execution_count": 4,
   "id": "2c68812a",
   "metadata": {},
   "outputs": [
    {
     "name": "stdout",
     "output_type": "stream",
     "text": [
      "{'flu': 0, 'imd': 1, 'normal': 2, 'queenless': 3}\n",
      "(6577, 40, 2401) (6577,)\n"
     ]
    }
   ],
   "source": [
    "features = dataset[0]\n",
    "\n",
    "le = LabelEncoder()\n",
    "labels = le.fit_transform(dataset[1])\n",
    "le_name_mapping = dict(zip(le.classes_, le.transform(le.classes_)))\n",
    "print(le_name_mapping)\n",
    "print(features.shape, labels.shape)\n",
    "\n",
    "X_train, X_test, y_train, y_test = train_test_split(features, labels, test_size=0.2, random_state=42)"
   ]
  },
  {
   "cell_type": "code",
   "execution_count": null,
   "id": "59cf2c99",
   "metadata": {},
   "outputs": [
    {
     "name": "stdout",
     "output_type": "stream",
     "text": [
      "Epoch 1/10\n",
      "527/527 [==============================] - 15s 22ms/step - loss: 1.1927 - accuracy: 0.4316\n",
      "Epoch 2/10\n",
      "527/527 [==============================] - 11s 22ms/step - loss: 0.6828 - accuracy: 0.7357\n",
      "Epoch 3/10\n",
      "527/527 [==============================] - 11s 22ms/step - loss: 0.5148 - accuracy: 0.8061\n",
      "Epoch 4/10\n",
      "527/527 [==============================] - 11s 22ms/step - loss: 0.3207 - accuracy: 0.8840\n",
      "Epoch 5/10\n",
      "316/527 [================>.............] - ETA: 4s - loss: 0.2683 - accuracy: 0.8979"
     ]
    }
   ],
   "source": [
    "model = Sequential()\n",
    "model.add(Dense(16, activation='relu', input_shape=(40, 2401)))\n",
    "model.add(Dense(8, activation='relu'))\n",
    "model.add(Bidirectional(LSTM(32, return_sequences=True)))\n",
    "model.add(Bidirectional(LSTM(16)))\n",
    "#model.add(LSTM(64))\n",
    "model.add(Dropout(0.2))\n",
    "model.add(Dense(4, activation='softmax'))\n",
    "\n",
    "# with tf.device('/physical_device:GPU:0'):\n",
    "model.compile(loss='SparseCategoricalCrossentropy',\n",
    "              optimizer='rmsprop',\n",
    "              metrics=['accuracy'])\n",
    "                   \n",
    "history = model.fit(X_train, y_train, epochs=10, batch_size=10, verbose=1)"
   ]
  },
  {
   "cell_type": "code",
   "execution_count": 10,
   "id": "0f9cf4c8",
   "metadata": {},
   "outputs": [
    {
     "name": "stdout",
     "output_type": "stream",
     "text": [
      "Evaluate on test data\n",
      "42/42 [==============================] - 1s 9ms/step - loss: 0.1268 - accuracy: 0.9559\n",
      "test loss, test acc: [0.1268147975206375, 0.9559270739555359]\n"
     ]
    }
   ],
   "source": [
    "print(\"Evaluate on test data\")\n",
    "results = model.evaluate(X_test, y_test)#, batch_size=128\n",
    "print(\"test loss, test acc:\", results)"
   ]
  },
  {
   "cell_type": "code",
   "execution_count": 7,
   "id": "b0ad368f",
   "metadata": {},
   "outputs": [
    {
     "data": {
      "text/plain": [
       "<tf.Tensor: shape=(4, 4), dtype=int32, numpy=\n",
       "array([[375,   3,   5,   0],\n",
       "       [  2, 401,   1,   0],\n",
       "       [  5,   5, 321,  17],\n",
       "       [  0,   1,   1, 179]], dtype=int32)>"
      ]
     },
     "execution_count": 7,
     "metadata": {},
     "output_type": "execute_result"
    }
   ],
   "source": [
    "y_pred = np.argmax(model.predict(X_test), axis=1)\n",
    "cm_array = tf.math.confusion_matrix(y_test, y_pred)\n",
    "cm_array"
   ]
  },
  {
   "cell_type": "code",
   "execution_count": 11,
   "id": "51fefc9f",
   "metadata": {},
   "outputs": [],
   "source": [
    "model.save('./model/multiclass_model.h5')"
   ]
  },
  {
   "cell_type": "code",
   "execution_count": null,
   "id": "8418900e",
   "metadata": {},
   "outputs": [],
   "source": []
  }
 ],
 "metadata": {
  "kernelspec": {
   "display_name": "Python 3",
   "language": "python",
   "name": "python3"
  },
  "language_info": {
   "codemirror_mode": {
    "name": "ipython",
    "version": 3
   },
   "file_extension": ".py",
   "mimetype": "text/x-python",
   "name": "python",
   "nbconvert_exporter": "python",
   "pygments_lexer": "ipython3",
   "version": "3.8.10"
  }
 },
 "nbformat": 4,
 "nbformat_minor": 5
}

{
 "cells": [
  {
   "cell_type": "code",
   "execution_count": 3,
   "id": "4396c1cc",
   "metadata": {},
   "outputs": [],
   "source": [
    "import numpy as np \n",
    "import torch\n",
    "import torch.nn as nn\n",
    "import matplotlib.pyplot as plt"
   ]
  },
  {
   "cell_type": "code",
   "execution_count": 5,
   "id": "3dc6da42",
   "metadata": {},
   "outputs": [],
   "source": [
    "from torch.utils.data import Dataset\n",
    "\n",
    "class MyDataset(Dataset):\n",
    "    def __init__(self, np_X_file_paths,np_y_file_paths):\n",
    "        self.X_files = np_X_file_paths\n",
    "        self.y_files = np_y_file_paths\n",
    "\n",
    "    \n",
    "    def __getitem__(self, index):\n",
    "        x = np.load(self.X_files[index:index+self.tw])\n",
    "        x = np.resize(x,(40,-1))\n",
    "        x = torch.from_numpy(x).float()\n",
    "        y = np.load(self.y_files[index+self.tw])\n",
    "        y = torch.from_numpy(y).float()\n",
    "        \n",
    "        return x,y\n",
    "    \n",
    "    def __len__(self):\n",
    "        return len(self.files)\n",
    "\n",
    "    \n",
    "'''class ConcatDataset(torch.utils.data.Dataset):\n",
    "    def __init__(self, *datasets):\n",
    "        self.datasets = datasets\n",
    "\n",
    "    def __getitem__(self, i):\n",
    "        return tuple(d[i] for d in self.datasets)\n",
    "\n",
    "    def __len__(self):\n",
    "        return min(len(d) for d in self.datasets)\n",
    "    \n",
    "'''\n",
    "#train_dataset = MyDataset(x_train,y_train)\n",
    "#vaild_dataset = \n",
    "    \n",
    "from torch.utils.data import DataLoader \n",
    "#def collate_fn(batch):\n",
    "    \n",
    "    \n",
    "#train_loader = DataLoader(train_dataset,shuffle=True,batch_size=16)"
   ]
  },
  {
   "cell_type": "code",
   "execution_count": 4,
   "id": "a50b38a5",
   "metadata": {},
   "outputs": [],
   "source": [
    "class LSTM(nn.Module):\n",
    "    def __init__(self, input_size=40, hidden_layer_size=100, output_size=1,bidirectional=True):\n",
    "        super().__init__()\n",
    "        self.hidden_layer_size = hidden_layer_size\n",
    "\n",
    "        self.lstm = nn.LSTM(input_size=input_size,\n",
    "            hidden_size=hidden_layer_size,\n",
    "            bidirectional=bidirectional)\n",
    "\n",
    "        self.linear = nn.Linear(hidden_layer_size, output_size)\n",
    "\n",
    "        self.hidden_cell = (torch.zeros(1,1,self.hidden_layer_size),\n",
    "                            torch.zeros(1,1,self.hidden_layer_size))\n",
    "        self.sigmoid = nn.Sigmoid()\n",
    "\n",
    "    def forward(self, input_seq):\n",
    "        lstm_out, self.hidden_cell = self.lstm(input_seq.view(len(input_seq) ,1, -1), self.hidden_cell)\n",
    "        predictions = self.linear(lstm_out.view(len(input_seq), -1))\n",
    "        return self.sigmoid(predictions[-1])"
   ]
  },
  {
   "cell_type": "code",
   "execution_count": null,
   "id": "0884d876",
   "metadata": {},
   "outputs": [],
   "source": []
  }
 ],
 "metadata": {
  "kernelspec": {
   "display_name": "Python 3",
   "language": "python",
   "name": "python3"
  },
  "language_info": {
   "codemirror_mode": {
    "name": "ipython",
    "version": 3
   },
   "file_extension": ".py",
   "mimetype": "text/x-python",
   "name": "python",
   "nbconvert_exporter": "python",
   "pygments_lexer": "ipython3",
   "version": "3.8.10"
  }
 },
 "nbformat": 4,
 "nbformat_minor": 5
}

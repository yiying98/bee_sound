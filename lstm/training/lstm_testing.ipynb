{
 "cells": [
  {
   "cell_type": "code",
   "execution_count": null,
   "id": "713e2f43",
   "metadata": {},
   "outputs": [],
   "source": [
    "import torch\n",
    "import torch.nn as nn\n",
    "import os\n",
    "from torch.utils.data.dataset import ConcatDataset\n",
    "from lstm_utils import MyDataset, LSTM\n",
    "from tqdm import trange\n",
    "from tqdm.notebook import tqdm"
   ]
  },
  {
   "cell_type": "code",
   "execution_count": null,
   "id": "49a545da",
   "metadata": {},
   "outputs": [],
   "source": [
    "d_path = './data'\n",
    "X_list = ['q-4-X-mfcc-augmented.npy']\n",
    "y_list = ['q-4-y-mfcc-augmented.npy']\n",
    "\n",
    "test_dataset = MyDataset(os.path.join(d_path,X_list[0]),os.path.join(d_path,y_list[0]),1)"
   ]
  },
  {
   "cell_type": "code",
   "execution_count": null,
   "id": "a92b50c7",
   "metadata": {},
   "outputs": [],
   "source": [
    "from torch.utils.data import DataLoader\n",
    "test_loader = DataLoader(test_dataset,shuffle=True,batch_size=1)"
   ]
  },
  {
   "cell_type": "code",
   "execution_count": null,
   "id": "377d04e5",
   "metadata": {},
   "outputs": [],
   "source": [
    "# parameters\n",
    "input_size=40\n",
    "hidden_layer_size=10\n",
    "bidirectional=True\n",
    "batch_size=16\n",
    "output_size="
   ]
  },
  {
   "cell_type": "code",
   "execution_count": null,
   "id": "47f30d26",
   "metadata": {},
   "outputs": [],
   "source": [
    "# load model\n",
    "device = torch.device(\"cuda\" if torch.cuda.is_available() else \"cpu\")\n",
    "ckpt = torch.load('./model/baseline.pt')\n",
    "ckpt.eval()\n",
    "\n",
    "#output state\n",
    "state=[]\n",
    "\n",
    "for seq,labels in tqdm(test_loader):\n",
    "    \n",
    "    seq = seq.to(device)\n",
    "            \n",
    "    y_pred = ckpt(seq)\n",
    "\n",
    "    y_pred[y_pred>0.5]=1\n",
    "    y_pred[y_pred!=1]=0\n",
    "\n",
    "    state.append(y_pred)\n",
    "    \n"
   ]
  }
 ],
 "metadata": {
  "kernelspec": {
   "display_name": "Python 3",
   "language": "python",
   "name": "python3"
  },
  "language_info": {
   "codemirror_mode": {
    "name": "ipython",
    "version": 3
   },
   "file_extension": ".py",
   "mimetype": "text/x-python",
   "name": "python",
   "nbconvert_exporter": "python",
   "pygments_lexer": "ipython3",
   "version": "3.8.10"
  }
 },
 "nbformat": 4,
 "nbformat_minor": 5
}

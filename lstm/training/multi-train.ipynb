{
 "cells": [
  {
   "cell_type": "code",
   "execution_count": 1,
   "id": "0e6ac7d0",
   "metadata": {},
   "outputs": [
    {
     "name": "stderr",
     "output_type": "stream",
     "text": [
      "2022-12-08 14:31:30.768159: W tensorflow/stream_executor/platform/default/dso_loader.cc:64] Could not load dynamic library 'libcudart.so.11.0'; dlerror: libcudart.so.11.0: cannot open shared object file: No such file or directory\n",
      "2022-12-08 14:31:30.768186: I tensorflow/stream_executor/cuda/cudart_stub.cc:29] Ignore above cudart dlerror if you do not have a GPU set up on your machine.\n"
     ]
    },
    {
     "name": "stdout",
     "output_type": "stream",
     "text": [
      "2.5.0\n"
     ]
    }
   ],
   "source": [
    "import os\n",
    "import numpy as np\n",
    "import pandas as pd\n",
    "import tensorflow as tf\n",
    "import seaborn as sn\n",
    "import matplotlib.pyplot as plt\n",
    "from tqdm import tqdm\n",
    "\n",
    "from keras.models import Sequential\n",
    "from keras.layers import Dense, Dropout, LSTM, Bidirectional\n",
    "from sklearn.metrics import accuracy_score, f1_score\n",
    "from sklearn.preprocessing import LabelEncoder\n",
    "# from sklearn.decomposition import PCA\n",
    "from sklearn.model_selection import train_test_split\n",
    "\n",
    "\n",
    "print(tf.__version__)\n",
    "# print(keras.__version__)"
   ]
  },
  {
   "cell_type": "code",
   "execution_count": 18,
   "id": "8f45a750",
   "metadata": {},
   "outputs": [
    {
     "name": "stdout",
     "output_type": "stream",
     "text": [
      "{'Yilan-imd1-X-mfcc-augmented.npy': 'Yilan-imd1-y-mfcc-augmented.npy', 'Yilan-imd3-X-mfcc-augmented.npy': 'Yilan-imd3-y-mfcc-augmented.npy', 'Yilan-q2-X-mfcc-augmented.npy': 'Yilan-q2-y-mfcc-augmented.npy', 'Yilan-q3-X-mfcc-augmented.npy': 'Yilan-q3-y-mfcc-augmented.npy', 'Yilan-queenless-1-X-mfcc-augmented.npy': 'Yilan-queenless-1-y-mfcc-augmented.npy', 'Yunlin-imd-3-X-mfcc-augmented.npy': 'Yunlin-imd-3-y-mfcc-augmented.npy', 'Yunlin-imd-4-X-mfcc-augmented.npy': 'Yunlin-imd-4-y-mfcc-augmented.npy', 'Yunlin-queenless-1-X-mfcc-augmented.npy': 'Yunlin-queenless-1-y-mfcc-augmented.npy', 'Yunlin-queenless-2-X-mfcc-augmented.npy': 'Yunlin-queenless-2-y-mfcc-augmented.npy', 'Yunlin-queenless-4-X-mfcc-augmented.npy': 'Yunlin-queenless-4-y-mfcc-augmented.npy', 'yunlin-dwv1-X-mfcc-augmented.npy': 'yunlin-dwv1-y-mfcc-augmented.npy'}\n"
     ]
    }
   ],
   "source": [
    "    path = './YunlinYilan'\n",
    "    fileset = sorted( [f for f in os.listdir(path) if f.endswith('.npy')])\n",
    "    filedic = {}\n",
    "    features = labels = np.array([])\n",
    "    \n",
    "    for idx, i in enumerate(fileset):\n",
    "        if idx %2==0:\n",
    "            filedic[i]= fileset[idx+1]\n",
    "    print(filedic)"
   ]
  },
  {
   "cell_type": "code",
   "execution_count": 19,
   "id": "25c36ebf",
   "metadata": {},
   "outputs": [
    {
     "name": "stdout",
     "output_type": "stream",
     "text": [
      "[[[-1.00000000e+00 -1.00000000e+00 -1.00000000e+00 ... -1.00000000e+00\n",
      "   -1.00000000e+00 -1.00000000e+00]\n",
      "  [ 3.22595239e-01  3.31384689e-01  3.30903828e-01 ...  3.41433287e-01\n",
      "    3.36080402e-01  3.26471508e-01]\n",
      "  [ 1.35565981e-01  1.36333808e-01  1.41218573e-01 ...  1.38799071e-01\n",
      "    1.33996978e-01  1.32893905e-01]\n",
      "  ...\n",
      "  [-1.18017122e-02 -9.57990531e-03 -1.12683345e-02 ... -1.52930189e-02\n",
      "   -9.21510532e-03 -5.76512795e-03]\n",
      "  [ 1.13164494e-03  7.44608522e-04 -7.93286692e-03 ... -9.64291766e-03\n",
      "    1.66367146e-03  1.21046007e-02]\n",
      "  [-9.91005078e-03 -7.72289699e-04  3.18092061e-03 ...  1.78289367e-03\n",
      "    7.66988983e-03  1.35102542e-02]]\n",
      "\n",
      " [[-1.00000000e+00 -1.00000000e+00 -1.00000000e+00 ... -1.00000000e+00\n",
      "   -1.00000000e+00 -1.00000000e+00]\n",
      "  [ 3.02903086e-01  3.12542439e-01  3.21480513e-01 ...  3.27982157e-01\n",
      "    3.22050333e-01  3.18779498e-01]\n",
      "  [ 1.41100049e-01  1.48126677e-01  1.40183643e-01 ...  1.42378688e-01\n",
      "    1.45236403e-01  1.49957255e-01]\n",
      "  ...\n",
      "  [-9.38020460e-03 -8.48007854e-03 -1.33006107e-02 ... -6.47190912e-03\n",
      "   -7.69488979e-03 -9.41026676e-03]\n",
      "  [ 3.52146453e-03  1.22701339e-02  7.50129484e-03 ... -2.87541840e-03\n",
      "   -1.31631107e-03 -1.16417836e-02]\n",
      "  [-1.52551280e-02 -8.92458297e-03 -3.18180979e-03 ... -2.32105609e-03\n",
      "   -5.22086071e-03 -1.25028677e-02]]\n",
      "\n",
      " [[-1.00000000e+00 -1.00000000e+00 -1.00000000e+00 ... -1.00000000e+00\n",
      "   -1.00000000e+00 -1.00000000e+00]\n",
      "  [ 3.00417513e-01  3.16747993e-01  3.25335950e-01 ...  3.42768103e-01\n",
      "    3.36201817e-01  3.17121953e-01]\n",
      "  [ 1.47884041e-01  1.39570326e-01  1.36086240e-01 ...  1.49824530e-01\n",
      "    1.45232126e-01  1.44628689e-01]\n",
      "  ...\n",
      "  [-4.20632353e-03 -7.05310097e-03 -7.91851524e-03 ... -6.46758731e-03\n",
      "   -8.32593432e-05  8.99365265e-03]\n",
      "  [ 1.24503728e-02 -2.35865731e-03 -1.28801400e-03 ...  5.99508965e-03\n",
      "    7.45136756e-03  1.12828109e-02]\n",
      "  [-1.81263536e-02 -1.95508227e-02 -6.35405863e-03 ... -6.48378441e-03\n",
      "   -5.12849726e-03 -3.66297481e-03]]\n",
      "\n",
      " ...\n",
      "\n",
      " [[-1.00000000e+00 -1.00000000e+00 -1.00000000e+00 ... -1.00000000e+00\n",
      "   -1.00000000e+00 -1.00000000e+00]\n",
      "  [ 2.66852736e-01  2.86406130e-01  2.83422917e-01 ...  2.78588355e-01\n",
      "    2.72478491e-01  2.46199638e-01]\n",
      "  [ 1.09976038e-01  1.21714860e-01  1.23872787e-01 ...  1.29570633e-01\n",
      "    1.21851698e-01  1.13268510e-01]\n",
      "  ...\n",
      "  [-9.34975315e-03 -1.35924835e-02 -1.00412462e-02 ...  4.00947407e-03\n",
      "    1.60147843e-03  7.51069281e-03]\n",
      "  [-7.80769624e-03 -1.31256478e-02 -5.88951493e-03 ... -4.96356934e-03\n",
      "   -8.62883870e-03 -1.69409660e-03]\n",
      "  [-1.63403049e-03 -1.45469082e-03 -9.14095901e-04 ...  7.76495645e-03\n",
      "    1.61398947e-03  1.35032798e-03]]\n",
      "\n",
      " [[-1.00000000e+00 -1.00000000e+00 -1.00000000e+00 ... -1.00000000e+00\n",
      "   -1.00000000e+00 -1.00000000e+00]\n",
      "  [ 2.27787495e-01  2.51432806e-01  2.59463161e-01 ...  2.97821224e-01\n",
      "    2.89194196e-01  2.56124914e-01]\n",
      "  [ 1.26245171e-01  1.33972302e-01  1.28909171e-01 ...  1.34382233e-01\n",
      "    1.24166466e-01  9.91151184e-02]\n",
      "  ...\n",
      "  [-6.09654887e-03  5.24070347e-04  4.53877263e-03 ...  9.96085699e-04\n",
      "   -2.82127527e-04 -3.89030855e-03]\n",
      "  [-5.00675058e-03 -8.04924755e-04 -2.16409401e-03 ...  1.08499441e-03\n",
      "   -4.43586707e-03 -6.66592270e-03]\n",
      "  [-1.20687613e-03  1.42312190e-03 -6.73965144e-04 ... -6.92991354e-03\n",
      "   -9.35585424e-03 -8.19335412e-03]]\n",
      "\n",
      " [[-1.00000000e+00 -1.00000000e+00 -1.00000000e+00 ... -1.00000000e+00\n",
      "   -1.00000000e+00 -1.00000000e+00]\n",
      "  [ 2.66111732e-01  2.70706326e-01  2.77921855e-01 ...  2.46140182e-01\n",
      "    2.59478241e-01  2.52890259e-01]\n",
      "  [ 8.62862542e-02  1.13898456e-01  1.32840514e-01 ...  1.26091674e-01\n",
      "    1.16415448e-01  9.10866633e-02]\n",
      "  ...\n",
      "  [ 5.95300552e-03 -3.35417106e-04  3.31664953e-04 ... -1.41926968e-04\n",
      "   -1.93251495e-03 -5.56695135e-03]\n",
      "  [-1.40816369e-03 -3.63886380e-03  3.41290561e-03 ... -2.07933714e-03\n",
      "   -4.20543132e-03 -9.79657844e-03]\n",
      "  [ 6.09941222e-03  2.44354061e-03  4.38852562e-03 ...  7.36555969e-03\n",
      "   -3.16889927e-05 -8.80356785e-03]]]\n",
      "['normal' 'normal' 'normal' ... 'Poision' 'Poision' 'Poision']\n"
     ]
    }
   ],
   "source": [
    "def concat_dataset():\n",
    "    path = './YunlinYilan'\n",
    "    fileset = sorted( [f for f in os.listdir(path) if f.endswith('.npy')])\n",
    "    filedic = {}\n",
    "    features = labels = np.array([])\n",
    "    \n",
    "    for idx, i in enumerate(fileset):\n",
    "        if idx %2==0:\n",
    "            filedic[i]= fileset[idx+1]\n",
    "    \n",
    "    \n",
    "    for file in filedic.keys():\n",
    "                \n",
    "            features_filename = file\n",
    "            labels_filename = filedic[file]\n",
    "            \n",
    "            curr_features = np.load(os.path.join(path, features_filename))\n",
    "            curr_labels = np.load(os.path.join(path, labels_filename))\n",
    "            \n",
    "            if features.size == 0:\n",
    "                features = curr_features\n",
    "            else:\n",
    "                features = np.concatenate((features, curr_features))\n",
    "                \n",
    "            \n",
    "            if labels.size == 0:\n",
    "                labels = curr_labels\n",
    "            else:\n",
    "                labels = np.concatenate((labels, curr_labels))\n",
    "    \n",
    "    return (features, labels)\n",
    "\n",
    "        \n",
    "dataset = concat_dataset()\n",
    "print(dataset[0])\n",
    "print(dataset[1])"
   ]
  },
  {
   "cell_type": "code",
   "execution_count": 20,
   "id": "2c68812a",
   "metadata": {},
   "outputs": [
    {
     "name": "stdout",
     "output_type": "stream",
     "text": [
      "{'Normal': 0, 'Poision': 1, 'imd': 2, 'normal': 3, 'queenless': 4}\n",
      "(5859, 40, 2401) (5859,)\n"
     ]
    }
   ],
   "source": [
    "features = dataset[0]\n",
    "\n",
    "le = LabelEncoder()\n",
    "labels = le.fit_transform(dataset[1])\n",
    "le_name_mapping = dict(zip(le.classes_, le.transform(le.classes_)))\n",
    "print(le_name_mapping)\n",
    "print(features.shape, labels.shape)\n",
    "\n",
    "X_train, X_test, y_train, y_test = train_test_split(features, labels, test_size=0.2, random_state=42)"
   ]
  },
  {
   "cell_type": "code",
   "execution_count": 26,
   "id": "538555dc",
   "metadata": {},
   "outputs": [
    {
     "name": "stderr",
     "output_type": "stream",
     "text": [
      "2022-12-08 15:55:26.716450: W tensorflow/core/framework/cpu_allocator_impl.cc:80] Allocation of 1800557920 exceeds 10% of free system memory.\n"
     ]
    },
    {
     "name": "stdout",
     "output_type": "stream",
     "text": [
      "Epoch 1/30\n",
      "235/235 [==============================] - 4s 13ms/step - loss: 1.3888 - accuracy: 0.3727\n",
      "Epoch 2/30\n",
      "235/235 [==============================] - 3s 13ms/step - loss: 0.9557 - accuracy: 0.5971\n",
      "Epoch 3/30\n",
      "235/235 [==============================] - 3s 13ms/step - loss: 0.7897 - accuracy: 0.6601\n",
      "Epoch 4/30\n",
      "235/235 [==============================] - 3s 13ms/step - loss: 0.6493 - accuracy: 0.7250\n",
      "Epoch 5/30\n",
      "235/235 [==============================] - 3s 13ms/step - loss: 0.5453 - accuracy: 0.7691\n",
      "Epoch 6/30\n",
      "235/235 [==============================] - 3s 13ms/step - loss: 0.4578 - accuracy: 0.8202\n",
      "Epoch 7/30\n",
      "235/235 [==============================] - 3s 13ms/step - loss: 0.4035 - accuracy: 0.8471\n",
      "Epoch 8/30\n",
      "235/235 [==============================] - 3s 13ms/step - loss: 0.3557 - accuracy: 0.8681\n",
      "Epoch 9/30\n",
      "235/235 [==============================] - 3s 13ms/step - loss: 0.2943 - accuracy: 0.8934\n",
      "Epoch 10/30\n",
      "235/235 [==============================] - 3s 13ms/step - loss: 0.2679 - accuracy: 0.9050\n",
      "Epoch 11/30\n",
      "235/235 [==============================] - 3s 13ms/step - loss: 0.2286 - accuracy: 0.9123\n",
      "Epoch 12/30\n",
      "235/235 [==============================] - 3s 13ms/step - loss: 0.2250 - accuracy: 0.9238\n",
      "Epoch 13/30\n",
      "235/235 [==============================] - 3s 13ms/step - loss: 0.2067 - accuracy: 0.9271\n",
      "Epoch 14/30\n",
      "235/235 [==============================] - 3s 13ms/step - loss: 0.2346 - accuracy: 0.9232\n",
      "Epoch 15/30\n",
      "235/235 [==============================] - 3s 13ms/step - loss: 0.1494 - accuracy: 0.9428\n",
      "Epoch 16/30\n",
      "235/235 [==============================] - 3s 13ms/step - loss: 0.1367 - accuracy: 0.9506\n",
      "Epoch 17/30\n",
      "235/235 [==============================] - 3s 13ms/step - loss: 0.1126 - accuracy: 0.9643\n",
      "Epoch 18/30\n",
      "235/235 [==============================] - 3s 13ms/step - loss: 0.0879 - accuracy: 0.9694\n",
      "Epoch 19/30\n",
      "235/235 [==============================] - 3s 13ms/step - loss: 0.0880 - accuracy: 0.9726\n",
      "Epoch 20/30\n",
      "235/235 [==============================] - 3s 13ms/step - loss: 0.0762 - accuracy: 0.9746\n",
      "Epoch 21/30\n",
      "235/235 [==============================] - 3s 13ms/step - loss: 0.0926 - accuracy: 0.9675\n",
      "Epoch 22/30\n",
      "235/235 [==============================] - 3s 13ms/step - loss: 0.0674 - accuracy: 0.9782\n",
      "Epoch 23/30\n",
      "235/235 [==============================] - 3s 13ms/step - loss: 0.0599 - accuracy: 0.9835\n",
      "Epoch 24/30\n",
      "235/235 [==============================] - 3s 13ms/step - loss: 0.0583 - accuracy: 0.9848\n",
      "Epoch 25/30\n",
      "235/235 [==============================] - 3s 13ms/step - loss: 0.0555 - accuracy: 0.9838\n",
      "Epoch 26/30\n",
      "235/235 [==============================] - 3s 13ms/step - loss: 0.0574 - accuracy: 0.9811\n",
      "Epoch 27/30\n",
      "235/235 [==============================] - 3s 13ms/step - loss: 0.0352 - accuracy: 0.9887\n",
      "Epoch 28/30\n",
      "235/235 [==============================] - 3s 13ms/step - loss: 0.0324 - accuracy: 0.9913\n",
      "Epoch 29/30\n",
      "235/235 [==============================] - 3s 13ms/step - loss: 0.0324 - accuracy: 0.9891\n",
      "Epoch 30/30\n",
      "235/235 [==============================] - 3s 13ms/step - loss: 0.0233 - accuracy: 0.9951\n"
     ]
    }
   ],
   "source": [
    "model = Sequential()\n",
    "model.add(Dense(16, activation='relu', input_shape=(40, 2401)))\n",
    "model.add(Dense(8, activation='relu'))\n",
    "model.add(LSTM(64))\n",
    "model.add(Dropout(0.2))\n",
    "model.add(Dense(5, activation='softmax'))\n",
    "# with tf.device('/physical_device:GPU:0'):\n",
    "model.compile(loss='SparseCategoricalCrossentropy',\n",
    "              optimizer='rmsprop',\n",
    "              metrics=['accuracy'])\n",
    "                   \n",
    "history = model.fit(X_train, y_train, epochs=30, batch_size=20, verbose=1)"
   ]
  },
  {
   "cell_type": "code",
   "execution_count": 1,
   "id": "fa71601e",
   "metadata": {},
   "outputs": [
    {
     "ename": "NameError",
     "evalue": "name 'Sequential' is not defined",
     "output_type": "error",
     "traceback": [
      "\u001b[0;31m---------------------------------------------------------------------------\u001b[0m",
      "\u001b[0;31mNameError\u001b[0m                                 Traceback (most recent call last)",
      "\u001b[0;32m<ipython-input-1-b819f1644e82>\u001b[0m in \u001b[0;36m<module>\u001b[0;34m\u001b[0m\n\u001b[0;32m----> 1\u001b[0;31m \u001b[0mmodel\u001b[0m \u001b[0;34m=\u001b[0m \u001b[0mSequential\u001b[0m\u001b[0;34m(\u001b[0m\u001b[0;34m)\u001b[0m\u001b[0;34m\u001b[0m\u001b[0;34m\u001b[0m\u001b[0m\n\u001b[0m\u001b[1;32m      2\u001b[0m \u001b[0mmodel\u001b[0m\u001b[0;34m.\u001b[0m\u001b[0madd\u001b[0m\u001b[0;34m(\u001b[0m\u001b[0mDense\u001b[0m\u001b[0;34m(\u001b[0m\u001b[0;36m16\u001b[0m\u001b[0;34m,\u001b[0m \u001b[0mactivation\u001b[0m\u001b[0;34m=\u001b[0m\u001b[0;34m'relu'\u001b[0m\u001b[0;34m,\u001b[0m \u001b[0minput_shape\u001b[0m\u001b[0;34m=\u001b[0m\u001b[0;34m(\u001b[0m\u001b[0;36m40\u001b[0m\u001b[0;34m,\u001b[0m \u001b[0;36m2401\u001b[0m\u001b[0;34m)\u001b[0m\u001b[0;34m)\u001b[0m\u001b[0;34m)\u001b[0m\u001b[0;34m\u001b[0m\u001b[0;34m\u001b[0m\u001b[0m\n\u001b[1;32m      3\u001b[0m \u001b[0mmodel\u001b[0m\u001b[0;34m.\u001b[0m\u001b[0madd\u001b[0m\u001b[0;34m(\u001b[0m\u001b[0mDense\u001b[0m\u001b[0;34m(\u001b[0m\u001b[0;36m8\u001b[0m\u001b[0;34m,\u001b[0m \u001b[0mactivation\u001b[0m\u001b[0;34m=\u001b[0m\u001b[0;34m'relu'\u001b[0m\u001b[0;34m)\u001b[0m\u001b[0;34m)\u001b[0m\u001b[0;34m\u001b[0m\u001b[0;34m\u001b[0m\u001b[0m\n\u001b[1;32m      4\u001b[0m \u001b[0mmodel\u001b[0m\u001b[0;34m.\u001b[0m\u001b[0madd\u001b[0m\u001b[0;34m(\u001b[0m\u001b[0mBidirectional\u001b[0m\u001b[0;34m(\u001b[0m\u001b[0mLSTM\u001b[0m\u001b[0;34m(\u001b[0m\u001b[0;36m20\u001b[0m\u001b[0;34m,\u001b[0m \u001b[0mreturn_sequences\u001b[0m\u001b[0;34m=\u001b[0m\u001b[0;32mTrue\u001b[0m\u001b[0;34m)\u001b[0m\u001b[0;34m)\u001b[0m\u001b[0;34m)\u001b[0m\u001b[0;34m\u001b[0m\u001b[0;34m\u001b[0m\u001b[0m\n\u001b[1;32m      5\u001b[0m \u001b[0mmodel\u001b[0m\u001b[0;34m.\u001b[0m\u001b[0madd\u001b[0m\u001b[0;34m(\u001b[0m\u001b[0mBidirectional\u001b[0m\u001b[0;34m(\u001b[0m\u001b[0mLSTM\u001b[0m\u001b[0;34m(\u001b[0m\u001b[0;36m16\u001b[0m\u001b[0;34m)\u001b[0m\u001b[0;34m)\u001b[0m\u001b[0;34m)\u001b[0m\u001b[0;34m\u001b[0m\u001b[0;34m\u001b[0m\u001b[0m\n",
      "\u001b[0;31mNameError\u001b[0m: name 'Sequential' is not defined"
     ]
    }
   ],
   "source": [
    "model = Sequential()\n",
    "model.add(Dense(16, activation='relu', input_shape=(40, 2401)))\n",
    "model.add(Dense(8, activation='relu'))\n",
    "model.add(Bidirectional(LSTM(20, return_sequences=True)))\n",
    "model.add(Bidirectional(LSTM(16)))\n",
    "#model.add(LSTM(64))\n",
    "model.add(Dropout(0.2))\n",
    "model.add(Dense(4, activation='softmax'))\n",
    "\n",
    "# with tf.device('/physical_device:GPU:0'):\n",
    "model.compile(loss='SparseCategoricalCrossentropy',\n",
    "              optimizer='rmsprop',\n",
    "              metrics=['accuracy'])\n",
    "                   \n",
    "history = model.fit(X_train, y_train, epochs=30, batch_size=80, verbose=1)"
   ]
  },
  {
   "cell_type": "code",
   "execution_count": 27,
   "id": "0db31f04",
   "metadata": {},
   "outputs": [
    {
     "name": "stdout",
     "output_type": "stream",
     "text": [
      "Evaluate on test data\n",
      "37/37 [==============================] - 1s 6ms/step - loss: 0.0853 - accuracy: 0.9744\n",
      "test loss, test acc: [0.08526543527841568, 0.9744027256965637]\n"
     ]
    }
   ],
   "source": [
    "print(\"Evaluate on test data\")\n",
    "results = model.evaluate(X_test, y_test)#, batch_size=128\n",
    "print(\"test loss, test acc:\", results)"
   ]
  },
  {
   "cell_type": "code",
   "execution_count": 28,
   "id": "4d5a8bd4",
   "metadata": {},
   "outputs": [
    {
     "data": {
      "text/plain": [
       "<tf.Tensor: shape=(5, 5), dtype=int32, numpy=\n",
       "array([[191,   2,   0,   0,   0],\n",
       "       [  2, 192,   0,   2,   0],\n",
       "       [  0,   0, 234,   2,   0],\n",
       "       [  0,   1,   6, 282,  10],\n",
       "       [  0,   0,   4,   1, 243]], dtype=int32)>"
      ]
     },
     "execution_count": 28,
     "metadata": {},
     "output_type": "execute_result"
    }
   ],
   "source": [
    "from sklearn.metrics import accuracy_score, classification_report, confusion_matrix\n",
    "import seaborn as sns\n",
    "y_pred = np.argmax(model.predict(X_test), axis=1)\n",
    "cm_array = tf.math.confusion_matrix(y_test, y_pred)\n",
    "cm_array\n",
    "#df_cm = pd.DataFrame(cm_array, range(4), range(4))\n",
    "#sn.set(font_scale=1.4) # for label size\n",
    "#sn.heatmap(df_cm, annot=True, annot_kws={\"size\": 16}) # font size\n",
    "#plt.show()\n"
   ]
  },
  {
   "cell_type": "code",
   "execution_count": 29,
   "id": "fc4a28c7",
   "metadata": {},
   "outputs": [
    {
     "data": {
      "image/png": "[encoded data removed]",
      "text/plain": [
       "<Figure size 640x480 with 2 Axes>"
      ]
     },
     "metadata": {},
     "output_type": "display_data"
    }
   ],
   "source": [
    "array =[[217,   1,  0,   1],\n",
    "       [  1, 200,  0,   0],\n",
    "       [ 0,   2, 138,   1],\n",
    "       [  1,   0,   3, 205]]\n",
    "class_names = ['normal', 'virus','queenless','pesticide']\n",
    "df_cm = pd.DataFrame(array,class_names,class_names)\n",
    "sn.set(font_scale=1.0) # for label size\n",
    "sn.heatmap(df_cm, annot=True, annot_kws={\"size\": 16},fmt='.20g') # font size\n",
    "plt.show()"
   ]
  },
  {
   "cell_type": "code",
   "execution_count": 21,
   "id": "259c11fc",
   "metadata": {},
   "outputs": [
    {
     "data": {
      "image/png": "[encoded data removed]",
      "text/plain": [
       "<Figure size 640x480 with 2 Axes>"
      ]
     },
     "metadata": {},
     "output_type": "display_data"
    }
   ],
   "source": [
    "array =[[0,   403],\n",
    "       [  1, 419 ]]\n",
    "class_names = ['normal', 'attack']\n",
    "df_cm = pd.DataFrame(array,class_names,class_names)\n",
    "sn.set(font_scale=1.0) # for label size\n",
    "sn.heatmap(df_cm, annot=True, annot_kws={\"size\": 16},fmt='.20g') # font size\n",
    "plt.show()"
   ]
  },
  {
   "cell_type": "code",
   "execution_count": 18,
   "id": "46033f58",
   "metadata": {},
   "outputs": [],
   "source": [
    "model.save('./model/multiclass_model_yunlinyilan.h5')"
   ]
  },
  {
   "cell_type": "code",
   "execution_count": null,
   "id": "b93ea2be",
   "metadata": {},
   "outputs": [],
   "source": []
  }
 ],
 "metadata": {
  "kernelspec": {
   "display_name": "Python 3 (ipykernel)",
   "language": "python",
   "name": "python3"
  },
  "language_info": {
   "codemirror_mode": {
    "name": "ipython",
    "version": 3
   },
   "file_extension": ".py",
   "mimetype": "text/x-python",
   "name": "python",
   "nbconvert_exporter": "python",
   "pygments_lexer": "ipython3",
   "version": "3.8.10"
  }
 },
 "nbformat": 4,
 "nbformat_minor": 5
}
